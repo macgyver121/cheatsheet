{
 "cells": [
  {
   "cell_type": "markdown",
   "metadata": {
    "id": "EIPoBy-7AOXt"
   },
   "source": [
    "# ![](http://)**1. Hold-out method**"
   ]
  },
  {
   "cell_type": "code",
   "execution_count": 2,
   "metadata": {
    "_cell_guid": "79c7e3d0-c299-4dcb-8224-4455121ee9b0",
    "_uuid": "d629ff2d2480ee46fbb7e2d37f6b5fab8052498a",
    "colab": {
     "base_uri": "https://localhost:8080/"
    },
    "id": "qf-WaWXsAOX1",
    "outputId": "9eddbb1e-2b1f-462b-bbb1-cd17d4231f37"
   },
   "outputs": [
    {
     "name": "stdout",
     "output_type": "stream",
     "text": [
      "[[0 1]\n",
      " [2 3]\n",
      " [4 5]\n",
      " [6 7]\n",
      " [8 9]]\n",
      "[0.49 0.64 0.86 0.44 0.58]\n",
      "X train  [[4 5]\n",
      " [0 1]\n",
      " [6 7]]\n",
      "y train  [0.86 0.49 0.44]\n",
      "X test  [[2 3]\n",
      " [8 9]]\n",
      "y test  [0.64 0.58]\n",
      "y_pred  [0.59 0.62]\n",
      "-1.7785457737161656\n",
      "0.0019892366688339987\n"
     ]
    }
   ],
   "source": [
    "import numpy as np\n",
    "from numpy import random\n",
    "from sklearn.model_selection import train_test_split\n",
    "import warnings\n",
    "warnings.filterwarnings('ignore')\n",
    "from sklearn.metrics import mean_squared_error\n",
    "np.set_printoptions(formatter={'float': lambda x: \"{0:0.2f}\".format(x)})\n",
    "\n",
    "X, y = np.arange(10).reshape((5, 2)),random.rand(5) # 4 columns, 100 rows, 80:20%\n",
    "print(X)\n",
    "print(y)\n",
    "X_train, X_test, y_train, y_test = train_test_split(X, y, test_size=0.30, random_state=42)\n",
    "print('X train ', X_train)\n",
    "print('y train ', y_train)\n",
    "print('X test ', X_test)\n",
    "print('y test ', y_test)\n",
    "\n",
    "from sklearn.metrics import r2_score\n",
    "from sklearn.linear_model import LinearRegression\n",
    "lr = LinearRegression()\n",
    "model = lr.fit(X_train,y_train)\n",
    "y_pred = model.predict(X_test)\n",
    "print('y_pred ', y_pred)\n",
    "print(r2_score(y_test, y_pred))\n",
    "print(mean_squared_error(y_test,y_pred))"
   ]
  },
  {
   "cell_type": "markdown",
   "metadata": {
    "id": "jkttijo_GQBi"
   },
   "source": [
    "### **Cross Validation (Grid search)**"
   ]
  },
  {
   "cell_type": "code",
   "execution_count": 3,
   "metadata": {
    "colab": {
     "base_uri": "https://localhost:8080/"
    },
    "id": "BuW8ekvKGO4u",
    "outputId": "1e3c4510-371f-4ab2-f321-82ab75ca48f1"
   },
   "outputs": [
    {
     "name": "stdout",
     "output_type": "stream",
     "text": [
      "[1.00 2.78 7.74 21.54 59.95 166.81 464.16 1291.55 3593.81 10000.00]\n",
      "Best Penalty: l2\n",
      "Best C: 7.742636826811269\n"
     ]
    }
   ],
   "source": [
    "from sklearn import datasets\n",
    "from sklearn.model_selection import GridSearchCV\n",
    "from sklearn.linear_model import LogisticRegression\n",
    "iris = datasets.load_iris()\n",
    "\n",
    "# Create regularization penalty space\n",
    "penalty = ['l1', 'l2']\n",
    "\n",
    "# Create regularization hyperparameter space\n",
    "C = np.logspace(0, 4, 10)\n",
    "print(C)\n",
    "\n",
    "# Create hyperparameter options\n",
    "hyperparameters = dict(C=C, penalty=penalty)\n",
    "\n",
    "clf = LogisticRegression()\n",
    "model = GridSearchCV(clf, hyperparameters, cv=5, verbose=0)\n",
    "best_model = model.fit(iris.data, iris.target)\n",
    "\n",
    "# View best hyperparameters\n",
    "print('Best Penalty:', best_model.best_estimator_.get_params()['penalty'])\n",
    "print('Best C:', best_model.best_estimator_.get_params()['C'])\n"
   ]
  },
  {
   "cell_type": "markdown",
   "metadata": {
    "id": "e5IXRmb2AOX3"
   },
   "source": [
    "# **3. Confusion matrix**"
   ]
  },
  {
   "cell_type": "code",
   "execution_count": null,
   "metadata": {
    "colab": {
     "base_uri": "https://localhost:8080/",
     "height": 457
    },
    "id": "hI7PNvegAOX4",
    "outputId": "43168a15-d3ac-46f8-f2b6-bf3119ac6ad7"
   },
   "outputs": [
    {
     "name": "stdout",
     "output_type": "stream",
     "text": [
      "X =  [[-0.04 0.13 -0.21 ... 1.98 1.02 -0.47]\n",
      " [0.77 0.10 -0.33 ... 1.27 0.62 -1.49]\n",
      " [-0.01 0.67 -0.21 ... -0.10 -0.10 -0.45]\n",
      " ...\n",
      " [0.30 -0.50 -0.86 ... -1.10 2.01 0.69]\n",
      " [0.09 0.98 0.17 ... 2.12 0.11 1.21]\n",
      " [-1.58 -1.42 -0.56 ... 1.27 -1.32 1.62]]\n",
      "y =  [0 0 1 1 1 0 0 0 1 1 0 0 1 0 1 1 1 1 0 1 1 1 0 0 0 1 1 1 0 1 1 0 0 1 1 1 0\n",
      " 1 1 0 1 0 1 0 0 0 1 0 0 1 1 1 0 1 1 0 0 0 1 0 0 1 0 0 0 1 1 1 0 0 1 0 1 0\n",
      " 1 0 0 1 0 0 0 0 0 1 0 0 1 1 0 1 1 0 0 1 0 1 1 1 1 0]\n"
     ]
    },
    {
     "data": {
      "image/png": "[encoded data removed]",
      "text/plain": [
       "<Figure size 432x288 with 2 Axes>"
      ]
     },
     "metadata": {
      "needs_background": "light"
     },
     "output_type": "display_data"
    }
   ],
   "source": [
    "import matplotlib.pyplot as plt\n",
    "from sklearn.datasets import make_classification\n",
    "from sklearn.metrics import plot_confusion_matrix\n",
    "from sklearn.model_selection import train_test_split\n",
    "\n",
    "X, y = make_classification(random_state=0)\n",
    "print('X = ',X)\n",
    "print('y = ',y)\n",
    "\n",
    "X_train, X_test, y_train, y_test = train_test_split(X, y, random_state=0) #75:25\n",
    "\n",
    "clf = LogisticRegression()\n",
    "\n",
    "clf.fit(X_train, y_train)\n",
    "\n",
    "plot_confusion_matrix(clf, X_test, y_test)\n",
    "\n",
    "plt.show()\n",
    "\n",
    "## [TN,FP]\n",
    "## [FN,TP]\n"
   ]
  },
  {
   "cell_type": "code",
   "execution_count": null,
   "metadata": {
    "colab": {
     "base_uri": "https://localhost:8080/"
    },
    "id": "D3tblkPAAOX4",
    "outputId": "d9a1dbf0-8423-423d-e4b0-c686db6efd76"
   },
   "outputs": [
    {
     "name": "stdout",
     "output_type": "stream",
     "text": [
      "[[3 1]\n",
      " [3 3]]\n",
      "tp= 3  fp= 1\n",
      "fn= 3  tn= 3\n",
      "accuracy =  0.6\n",
      "precision =  0.75\n",
      "recall =  0.5\n",
      "f1 =  0.6\n",
      "******************\n",
      "              precision    recall  f1-score   support\n",
      "\n",
      "     class 0       0.50      0.75      0.60         4\n",
      "     class 1       0.75      0.50      0.60         6\n",
      "\n",
      "    accuracy                           0.60        10\n",
      "   macro avg       0.62      0.62      0.60        10\n",
      "weighted avg       0.65      0.60      0.60        10\n",
      "\n"
     ]
    }
   ],
   "source": [
    "from sklearn.metrics import confusion_matrix\n",
    "y_true = [0, 0, 0, 1, 1, 1, 1, 1, 0, 1]\n",
    "y_pred = [0, 0, 0, 1, 0, 1, 0, 1, 1, 0]\n",
    "\n",
    "test = confusion_matrix(y_true, y_pred)\n",
    "print(test) # 2D\n",
    "tn, fp, fn, tp = confusion_matrix(y_true, y_pred).ravel() ## มันจะเรียง output แบบนี้ / ravel ทำจาก 2 มิติให้กลายเป็นเรียง 1 มิติ\n",
    "print(\"tp=\",tp,\" fp=\",fp)\n",
    "print(\"fn=\",fn,\" tn=\", tn)\n",
    "\n",
    "from sklearn import metrics\n",
    "from sklearn.metrics import accuracy_score\n",
    "precision = metrics.precision_score(y_true, y_pred)\n",
    "recall = metrics.recall_score(y_true, y_pred)\n",
    "f1 = metrics.f1_score(y_true, y_pred)\n",
    "accuracy = accuracy_score(y_true, y_pred)\n",
    "print(\"accuracy = \",accuracy )\n",
    "print(\"precision = \",precision)\n",
    "print(\"recall = \", recall)\n",
    "print(\"f1 = \", f1)\n",
    "\n",
    "print('******************')\n",
    "\n",
    "target_names = ['class 0', 'class 1']  ## ปกติจะดูที่ class 1 บอกว่ามี 1 อยู่ 6 ตัว (class 0 เหมือนเรามอง 0 เป็นตัวหลักแทน มันจะเหมือน invert กับclass 1 แต่ถ้าเหมือนที่เราเรียนมันจะดูใน class1)\n",
    "print(metrics.classification_report(y_true, y_pred, target_names=target_names))\n",
    "\n",
    "## macro คือเอาบวกกันหาร 2 แต่ w avg จะมีการเอาค่าคูณ support / all support"
   ]
  },
  {
   "cell_type": "code",
   "execution_count": null,
   "metadata": {
    "colab": {
     "base_uri": "https://localhost:8080/",
     "height": 331
    },
    "id": "pz6pOMTsAOX5",
    "outputId": "f381e5a4-17aa-44f7-aa93-5363deff3d9d"
   },
   "outputs": [
    {
     "name": "stdout",
     "output_type": "stream",
     "text": [
      "(1000, 20)\n",
      "No Skill: ROC AUC=0.500\n",
      "Logistic: ROC AUC=0.919\n"
     ]
    },
    {
     "data": {
      "image/png": "[encoded data removed]",
      "text/plain": [
       "<Figure size 432x288 with 1 Axes>"
      ]
     },
     "metadata": {
      "needs_background": "light"
     },
     "output_type": "display_data"
    }
   ],
   "source": [
    "# roc curve and auc\n",
    "from sklearn.datasets import make_classification\n",
    "from sklearn.linear_model import LogisticRegression\n",
    "from sklearn.model_selection import train_test_split\n",
    "from sklearn.metrics import roc_curve\n",
    "from sklearn.metrics import roc_auc_score\n",
    "from matplotlib import pyplot\n",
    "\n",
    "# generate 2 class dataset\n",
    "X, y = make_classification(n_samples=1000, n_classes=2, random_state=1)\n",
    "print(X.shape)\n",
    "\n",
    "# split into train/test sets\n",
    "trainX, testX, trainy, testy = train_test_split(X, y, test_size=0.3, random_state=2)\n",
    "\n",
    "# generate a no skill prediction (majority class)\n",
    "ns_probs = [0 for _ in range(len(testy))]\n",
    "\n",
    "# fit a model\n",
    "model = LogisticRegression()\n",
    "model.fit(trainX, trainy)\n",
    "\n",
    "# predict probabilities\n",
    "lr_probs = model.predict_proba(testX)\n",
    "\n",
    "# keep probabilities for the positive outcome only\n",
    "## เวลาค่าที่ออกมามันจะมี 2 column , columnแรกเป็นลบ columnสองเป็นบวก\n",
    "lr_probs = lr_probs[:, 1]\n",
    "\n",
    "# calculate scores\n",
    "ns_auc = roc_auc_score(testy, ns_probs)\n",
    "lr_auc = roc_auc_score(testy, lr_probs)\n",
    "\n",
    "# summarize scores\n",
    "print('No Skill: ROC AUC=%.3f' % (ns_auc))\n",
    "print('Logistic: ROC AUC=%.3f' % (lr_auc))\n",
    "\n",
    "# calculate roc curves\n",
    "ns_fpr, ns_tpr, _ = roc_curve(testy, ns_probs)\n",
    "lr_fpr, lr_tpr, _ = roc_curve(testy, lr_probs)\n",
    "\n",
    "# plot the roc curve for the model\n",
    "pyplot.plot(ns_fpr, ns_tpr, linestyle='--', label='No Skill')\n",
    "pyplot.plot(lr_fpr, lr_tpr, marker='.', label='Logistic')\n",
    "\n",
    "# axis labels\n",
    "pyplot.xlabel('False Positive Rate')\n",
    "pyplot.ylabel('True Positive Rate')\n",
    "\n",
    "# show the legend\n",
    "pyplot.legend()\n",
    "\n",
    "# show the plot\n",
    "pyplot.show()\n"
   ]
  },
  {
   "cell_type": "code",
   "execution_count": null,
   "metadata": {
    "id": "L8oHneaqDm4f"
   },
   "outputs": [],
   "source": []
  }
 ],
 "metadata": {
  "colab": {
   "collapsed_sections": [],
   "name": "week7.ipynb",
   "provenance": []
  },
  "kernelspec": {
   "display_name": "Python 3",
   "language": "python",
   "name": "python3"
  },
  "language_info": {
   "codemirror_mode": {
    "name": "ipython",
    "version": 3
   },
   "file_extension": ".py",
   "mimetype": "text/x-python",
   "name": "python",
   "nbconvert_exporter": "python",
   "pygments_lexer": "ipython3",
   "version": "3.8.8"
  }
 },
 "nbformat": 4,
 "nbformat_minor": 1
}
