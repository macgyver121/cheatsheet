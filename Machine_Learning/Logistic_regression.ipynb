{
 "cells": [
  {
   "cell_type": "markdown",
   "id": "e844592b",
   "metadata": {},
   "source": [
    "# Logistic Regression"
   ]
  },
  {
   "cell_type": "code",
   "execution_count": 1,
   "id": "2693766a",
   "metadata": {},
   "outputs": [],
   "source": [
    "from sklearn.datasets import make_classification\n",
    "import numpy as np"
   ]
  },
  {
   "cell_type": "code",
   "execution_count": 2,
   "id": "71ea779c",
   "metadata": {},
   "outputs": [
    {
     "name": "stdout",
     "output_type": "stream",
     "text": [
      "[[-0.06242672 -0.12586577 -0.29102207  0.19639153]\n",
      " [-0.47896155  0.78699007  0.889577   -0.29476369]\n",
      " [ 0.7037129  -0.19248111  0.41000962 -0.55759704]\n",
      " [ 0.17350512  0.32506734  0.76474562 -0.52039211]\n",
      " [ 0.6466589  -0.70786936 -0.56920045  0.03341124]\n",
      " [ 0.67441866 -1.30915842 -1.61069944  0.62166695]\n",
      " [ 0.49829084 -1.06955091 -1.37227986  0.56445356]\n",
      " [-2.58346329  1.00755167 -0.96913756  1.73773604]\n",
      " [ 0.20313763  0.62954389  1.3388766  -0.86516998]\n",
      " [ 0.07292349 -0.43198887 -0.69156826  0.36575065]]\n",
      "[1 0 0 0 1 1 1 1 0 0]\n"
     ]
    }
   ],
   "source": [
    "X, Y = make_classification(n_samples=10, n_features=4)\n",
    "\n",
    "print(X)\n",
    "print(Y)"
   ]
  },
  {
   "cell_type": "code",
   "execution_count": 5,
   "id": "68cd954f",
   "metadata": {},
   "outputs": [
    {
     "name": "stdout",
     "output_type": "stream",
     "text": [
      "Y: [1 0 0 0 1 1 1 1 0 0]\n",
      "predict: [1 0 0 0 1 1 1 1 0 1]\n",
      "predict_prob: [[0.47458441 0.52541559]\n",
      " [0.83699633 0.16300367]\n",
      " [0.76019782 0.23980218]\n",
      " [0.8301299  0.1698701 ]\n",
      " [0.4069919  0.5930081 ]\n",
      " [0.12084889 0.87915111]\n",
      " [0.16059966 0.83940034]\n",
      " [0.15329799 0.84670201]\n",
      " [0.92293296 0.07706704]\n",
      " [0.33344251 0.66655749]]\n",
      "score: 0.9\n"
     ]
    }
   ],
   "source": [
    "# data from upper topic use SKLearn\n",
    "from sklearn.linear_model import LogisticRegression\n",
    "clf = LogisticRegression(random_state=123)\n",
    "clf.fit(X,Y)\n",
    "print('Y:', Y)\n",
    "print('predict:',clf.predict(X))\n",
    "print('predict_prob:',clf.predict_proba(X))\n",
    "\n",
    "#easy evaluate\n",
    "print('score:',clf.score(X, Y))"
   ]
  },
  {
   "cell_type": "markdown",
   "id": "8969c038",
   "metadata": {},
   "source": [
    "## Confusion matrix"
   ]
  },
  {
   "cell_type": "code",
   "execution_count": 15,
   "id": "fd719733",
   "metadata": {},
   "outputs": [
    {
     "data": {
      "image/png": "[encoded data removed]",
      "text/plain": [
       "<Figure size 432x288 with 2 Axes>"
      ]
     },
     "metadata": {
      "needs_background": "light"
     },
     "output_type": "display_data"
    }
   ],
   "source": [
    "import matplotlib.pyplot as plt\n",
    "from sklearn.datasets import make_classification\n",
    "from sklearn.metrics import plot_confusion_matrix\n",
    "from sklearn.model_selection import train_test_split\n",
    "\n",
    "plot_confusion_matrix(clf, X, Y)\n",
    "\n",
    "plt.show()\n",
    "\n",
    "## [TN,FP]\n",
    "## [FP,TP]"
   ]
  },
  {
   "cell_type": "code",
   "execution_count": 23,
   "id": "11b0cff3",
   "metadata": {},
   "outputs": [
    {
     "name": "stdout",
     "output_type": "stream",
     "text": [
      "[[3 2]\n",
      " [1 4]]\n",
      "tp= 4  fp= 2\n",
      "fn= 1  tn= 3\n"
     ]
    }
   ],
   "source": [
    "from sklearn.metrics import confusion_matrix\n",
    "Y_pred = clf.predict(X)\n",
    "test = confusion_matrix(Y, Y_pred)\n",
    "print(test)\n",
    "\n",
    "tn, fp, fn, tp = confusion_matrix(Y, Y_pred).ravel() ## มันจะเรียง output แบบนี้ / ravel ทำจาก 2 มิติให้กลายเป็นเรียง 1 มิติ\n",
    "print(\"tp=\",tp,\" fp=\",fp)\n",
    "print(\"fn=\",fn,\" tn=\", tn)"
   ]
  },
  {
   "cell_type": "markdown",
   "id": "9a364092",
   "metadata": {},
   "source": [
    "## precision recall accuracy"
   ]
  },
  {
   "cell_type": "code",
   "execution_count": 25,
   "id": "32d4d6cb",
   "metadata": {},
   "outputs": [
    {
     "name": "stdout",
     "output_type": "stream",
     "text": [
      "accuracy =  0.7\n",
      "precision =  0.6666666666666666\n",
      "recall =  0.8\n",
      "f1 =  0.7272727272727272\n",
      "******************\n",
      "              precision    recall  f1-score   support\n",
      "\n",
      "     class 0       0.75      0.60      0.67         5\n",
      "     class 1       0.67      0.80      0.73         5\n",
      "\n",
      "    accuracy                           0.70        10\n",
      "   macro avg       0.71      0.70      0.70        10\n",
      "weighted avg       0.71      0.70      0.70        10\n",
      "\n"
     ]
    }
   ],
   "source": [
    "from sklearn import metrics\n",
    "from sklearn.metrics import accuracy_score\n",
    "precision = metrics.precision_score(Y, Y_pred)\n",
    "recall = metrics.recall_score(Y, Y_pred)\n",
    "f1 = metrics.f1_score(Y, Y_pred)\n",
    "accuracy = accuracy_score(Y, Y_pred)\n",
    "print(\"accuracy = \",accuracy )\n",
    "print(\"precision = \",precision)\n",
    "print(\"recall = \", recall)\n",
    "print(\"f1 = \", f1)\n",
    "\n",
    "print('******************')\n",
    "\n",
    "target_names = ['class 0', 'class 1']  ## ปกติจะดูที่ class 1 บอกว่ามี 1 อยู่ 6 ตัว (class 0 เหมือนเรามอง 0 เป็นตัวหลักแทน มันจะเหมือน invert กับclass 1 แต่ถ้าเหมือนที่เราเรียนมันจะดูใน class1)\n",
    "print(metrics.classification_report(Y, Y_pred, target_names=target_names))"
   ]
  },
  {
   "cell_type": "code",
   "execution_count": null,
   "id": "60d319a5",
   "metadata": {},
   "outputs": [],
   "source": []
  }
 ],
 "metadata": {
  "kernelspec": {
   "display_name": "Python 3",
   "language": "python",
   "name": "python3"
  },
  "language_info": {
   "codemirror_mode": {
    "name": "ipython",
    "version": 3
   },
   "file_extension": ".py",
   "mimetype": "text/x-python",
   "name": "python",
   "nbconvert_exporter": "python",
   "pygments_lexer": "ipython3",
   "version": "3.8.8"
  }
 },
 "nbformat": 4,
 "nbformat_minor": 5
}
